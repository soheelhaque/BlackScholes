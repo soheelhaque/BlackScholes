{
 "cells": [
  {
   "cell_type": "code",
   "execution_count": 1,
   "metadata": {},
   "outputs": [],
   "source": [
    "# importing JSON and requests libraries\n",
    "import requests\n",
    "import json"
   ]
  },
  {
   "cell_type": "code",
   "execution_count": 2,
   "metadata": {},
   "outputs": [],
   "source": [
    "# define the api-endpoint  \n",
    "API_ENDPOINT = \"http://localhost:5000/api/call_calculator\"\n",
    "\n",
    "# define the data to be posted to the endpoint\n",
    "current_price = 100\n",
    "option_maturity_years = 1\n",
    "risk_free_rate_percent = 5\n",
    "strike_price = 100\n",
    "volatility_percent = 5\n",
    "\n",
    "model_inputs = {\"current_price\": current_price, \"option_maturity_years\": option_maturity_years, \"risk_free_rate_percent\": risk_free_rate_percent, \"strike_price\": strike_price, \"volatility_percent\": volatility_percent}"
   ]
  },
  {
   "cell_type": "code",
   "execution_count": 3,
   "metadata": {},
   "outputs": [
    {
     "output_type": "stream",
     "name": "stdout",
     "text": "The Black-Scholes option price is:5.283268987649919\n\n"
    }
   ],
   "source": [
    "# data to be sent to api\n",
    "# create a dictionary to hold the model inputs\n",
    "data = json.dumps(model_inputs)\n",
    "headers = {'Content-type': 'application/json', 'Accept': 'text/plain'}\n",
    "\n",
    "# sending post request and saving response as response object \n",
    "response = requests.post(url = API_ENDPOINT, data = data, headers = headers)\n",
    "\n",
    "# extracting the response and print it\n",
    "option_price = response.text\n",
    "print(\"The Black-Scholes option price is:%s\"%option_price) "
   ]
  }
 ],
 "metadata": {
  "kernelspec": {
   "display_name": "Python 3",
   "language": "python",
   "name": "python3"
  },
  "language_info": {
   "codemirror_mode": {
    "name": "ipython",
    "version": 3
   },
   "file_extension": ".py",
   "mimetype": "text/x-python",
   "name": "python",
   "nbconvert_exporter": "python",
   "pygments_lexer": "ipython3",
   "version": "3.7.3-final"
  }
 },
 "nbformat": 4,
 "nbformat_minor": 4
}